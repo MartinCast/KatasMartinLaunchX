{
  "cells": [
    {
      "cell_type": "markdown",
      "metadata": {},
      "source": [
        "# Ejercicio: Uso de funciones en Python"
      ]
    },
    {
      "cell_type": "markdown",
      "metadata": {},
      "source": [
        "### Ejercicio 1: Trabajar con argumentos en funciones\n",
        "\n",
        "Los argumentos requeridos en las funciones se utilizan cuando las funciones necesitan que esos argumentos funcionen correctamente. En este ejercicio, construirás un informe de combustible que requiere información de varias ubicaciones de combustible en todo el cohete.\n",
        "\n"
      ]
    },
    {
      "cell_type": "markdown",
      "metadata": {},
      "source": [
        "> **TIP**\n",
        "> Dedica unos minutos para tratar de encontrar una solución. Luego desplázate hacia abajo hasta la parte inferior para ver si has logrado compilar el programa de acuerdo con las especificaciones\n",
        "\n",
        "Comienza por crear una función que necesite tres lecturas de combustible y devuelva un informe:"
      ]
    },
    {
      "cell_type": "code",
      "execution_count": 30,
      "metadata": {},
      "outputs": [],
      "source": [
        "# Función para leer 3 tanques de combustible y muestre el promedio\n",
        "def tanques_combustibles(tanque1, tanque2, tanque3):\n",
        "    promedio = (tanque1 + tanque2 + tanque3) / 3\n",
        "    return f\"\"\" tanque 1 de combustible:{tanque1}\n",
        "    tanque 2 de combustible: {tanque2}\n",
        "    tanque 3 de combustible: {tanque3}\n",
        "    promedio de los tanques de combustible:{promedio}  \n",
        "    \"\"\"\n",
        "\n"
      ]
    },
    {
      "cell_type": "markdown",
      "metadata": {},
      "source": [
        "Ahora que hemos definido la función de informes, vamos a comprobarlo. Para esta misión, los tanques no están llenos:"
      ]
    },
    {
      "cell_type": "code",
      "execution_count": 11,
      "metadata": {},
      "outputs": [
        {
          "name": "stdout",
          "output_type": "stream",
          "text": [
            " tanque 1 de combustible:7\n",
            "    tanque 2 de combustible: 6\n",
            "    tanque 3 de combustible: 7\n",
            "    promedio de los tanques de combustible:6.666666666666667  \n",
            "    \n"
          ]
        }
      ],
      "source": [
        "\n",
        "# Llamamos a la función que genera el reporte print(funcion(tanque1, tanque2, tanque3))\n",
        "\n",
        "print(tanques_combustibles(7,6,7))\n"
      ]
    },
    {
      "cell_type": "markdown",
      "metadata": {},
      "source": [
        "En lugar de simplemente crear el informe, la función también está calculando el promedio. Mejora la legibilidad extrayendo el cálculo promedio de la función en una nueva función para que el promedio se pueda hacer de forma independiente:"
      ]
    },
    {
      "cell_type": "code",
      "execution_count": 24,
      "metadata": {},
      "outputs": [
        {
          "data": {
            "text/plain": [
              "5.0"
            ]
          },
          "execution_count": 24,
          "metadata": {},
          "output_type": "execute_result"
        }
      ],
      "source": [
        "# Función promedio \n",
        "def promedio(tanques):\n",
        "    return sum(tanques) / len(tanques)\n",
        "promedio([4,5,6])"
      ]
    },
    {
      "cell_type": "markdown",
      "metadata": {},
      "source": [
        "Ahora actualiza la función de informes para llamando a la nueva función del promedio:\n"
      ]
    },
    {
      "cell_type": "code",
      "execution_count": 33,
      "metadata": {},
      "outputs": [
        {
          "name": "stdout",
          "output_type": "stream",
          "text": [
            " tanque 1 de combustible:7\n",
            "    tanque 2 de combustible: 6\n",
            "    tanque 3 de combustible: 7\n",
            "    promedio de los tanques de combustible:6.666666666666667  \n",
            "    \n"
          ]
        }
      ],
      "source": [
        "# Actualiza la función\n",
        "def tanques_combustibles(tanque1, tanque2, tanque3):\n",
        "    \n",
        "    return f\"\"\" tanque 1 de combustible:{tanque1}\n",
        "    tanque 2 de combustible: {tanque2}\n",
        "    tanque 3 de combustible: {tanque3}\n",
        "    promedio de los tanques de combustible:{promedio([tanque1,tanque2,tanque3])}  \n",
        "    \"\"\"\n",
        "print(tanques_combustibles(7,6,7))"
      ]
    },
    {
      "cell_type": "markdown",
      "metadata": {},
      "source": [
        "> Recuerda: Lo importante es intentarlo, puedes auxiliarte de internet, libros, etc. El objetivo de una kata es la comprobación de la comprensión de la lección y su aplicación inmediata a la resolución de problemas. Go for it!"
      ]
    },
    {
      "cell_type": "markdown",
      "metadata": {},
      "source": [
        "## Ejercicio 2: Trabajo con argumentos de palabra clave"
      ]
    },
    {
      "cell_type": "markdown",
      "metadata": {},
      "source": [
        "### Ejercicio : Trabajar con argumentos de palabras clave en funciones\n",
        "En este ejercicio, construirás un informe de cohete que requiere varias piezas de información, como el tiempo hasta el destino, el combustible a la izquierda y el nombre del destino. Comienza por crear una función que creará un informe preciso de la misión:"
      ]
    },
    {
      "cell_type": "code",
      "execution_count": 35,
      "metadata": {},
      "outputs": [
        {
          "name": "stdout",
          "output_type": "stream",
          "text": [
            " destino: marte\n",
            "    tiempo de llegada: 26\n",
            "    total combustible: 700\n",
            "    \n"
          ]
        }
      ],
      "source": [
        "# Función con un informe preciso de la misión. Considera hora de prelanzamiento, tiempo de vuelo, destino, tanque externo y tanque interno\n",
        "\n",
        "def mision(hora_de_prelanzamiento, tiempo_de_vuelo, destino,tanque_externo,tanque_interno):\n",
        "    return f\"\"\" destino: {destino}\n",
        "    tiempo de llegada: {hora_de_prelanzamiento + tiempo_de_vuelo}\n",
        "    total combustible: {tanque_externo + tanque_interno}\n",
        "    \"\"\"\n",
        "print(mision(12,14,'marte',300,400))"
      ]
    },
    {
      "cell_type": "markdown",
      "metadata": {},
      "source": [
        "La función es problemática porque no se puede adaptar para minutos adicionales o tanques adicionales de combustible. Hazlo más flexible permitiendo cualquier número de pasos basados en el tiempo y cualquier número de tanques. En lugar de usar `*args` y `**kwargs`, aprovecha el hecho de que puedes usar cualquier nombre que desees. Asegurate que la función sea más legible mediante el uso de nombres de variables que están asociados con las entradas, como `*minutes` y `**fuel_reservoirs`:"
      ]
    },
    {
      "cell_type": "code",
      "execution_count": 39,
      "metadata": {},
      "outputs": [
        {
          "name": "stdout",
          "output_type": "stream",
          "text": [
            " destino: Marte\n",
            "    Tiempo de llegada: 95\n",
            "    Total combustibles: 6000\n",
            "    \n"
          ]
        }
      ],
      "source": [
        "# Escribe tu nueva función de reporte considerando lo anterior\n",
        "def mision(destino, *tiempo, **tanques_combustibles):\n",
        "    return f\"\"\" destino: {destino}\n",
        "    Tiempo de llegada: {sum(tiempo)}\n",
        "    Total combustibles: {sum(tanques_combustibles.values())}\n",
        "    \"\"\"\n",
        "\n",
        "print(mision(\"Marte\", 5, 10, 80, externo=5000, interno=1000))"
      ]
    },
    {
      "cell_type": "markdown",
      "metadata": {},
      "source": [
        "Debido a que el combustible que queda en los tanques es específico de cada tanque, actualiza la función para usar el nombre de cada tanque en el informe:"
      ]
    },
    {
      "cell_type": "code",
      "execution_count": 47,
      "metadata": {},
      "outputs": [
        {
          "name": "stdout",
          "output_type": "stream",
          "text": [
            "\n",
            "    Mission to Luna\n",
            "    Total travel time: 172 minutes\n",
            "    Total fuel left: 5000\n",
            "    interno tanque: 2000 galones \n",
            "externo tanque: 3000 galones \n",
            "\n"
          ]
        }
      ],
      "source": [
        "# Escribe tu nueva función\n",
        "def mision(destino, *tiempo, **tanques_combustible):\n",
        "    informe = f\"\"\"\n",
        "    Mission to {destino}\n",
        "    Total travel time: {sum(tiempo)} minutes\n",
        "    Total fuel left: {sum(tanques_combustible.values())}\n",
        "    \"\"\"\n",
        "    for nombres_tanques, galones in tanques_combustible.items():\n",
        "        informe += f\"{nombres_tanques} tanque: {galones} galones \\n\"\n",
        "    return informe\n",
        "\n",
        "print(mision(\"Luna\", 2, 20, 150, interno=2000, externo=3000))"
      ]
    },
    {
      "cell_type": "markdown",
      "metadata": {},
      "source": [
        "---\n",
        "\n",
        "Curso Propedútico de Python para Launch X - Innovacción Virtual.\n",
        "\n",
        "Material desarrollado con base en los contenidos de MSLearn y la metáfora de LaunchX, traducción e implementación por: Fernanda Ochoa - Learning Producer de LaunchX.\n",
        "\n",
        "Redes:\n",
        "* GitHub: [FernandaOchoa](https://github.com/FernandaOchoa)\n",
        "* Twitter: [@imonsh](https://twitter.com/imonsh)\n",
        "* Instagram: [fherz8a](https://www.instagram.com/fherz8a/)"
      ]
    }
  ],
  "metadata": {
    "interpreter": {
      "hash": "205095b8b86ea82a021a8fc2ffba2b3bc9f8d0be25999901963b225939f75778"
    },
    "kernelspec": {
      "display_name": "Python 3.8.10 64-bit ('tmp': conda)",
      "name": "python3"
    },
    "language_info": {
      "codemirror_mode": {
        "name": "ipython",
        "version": 3
      },
      "file_extension": ".py",
      "mimetype": "text/x-python",
      "name": "python",
      "nbconvert_exporter": "python",
      "pygments_lexer": "ipython3",
      "version": "3.10.2"
    },
    "nteract": {
      "version": "nteract-front-end@1.0.0"
    },
    "orig_nbformat": 4
  },
  "nbformat": 4,
  "nbformat_minor": 2
}
